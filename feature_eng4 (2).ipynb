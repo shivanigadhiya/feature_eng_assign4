{
 "cells": [
  {
   "cell_type": "markdown",
   "id": "e4646e4a-7274-44c3-8687-6968f4758e31",
   "metadata": {},
   "source": [
    "Q1. What is the difference between Ordinal Encoding and Label Encoding? Provide an example of when you\n",
    "might choose one over the other."
   ]
  },
  {
   "cell_type": "markdown",
   "id": "a8e3b59f-2406-4e64-a40a-3d7cd5236263",
   "metadata": {},
   "source": [
    "Label Encoding:\n",
    "\n",
    "Definition: Label Encoding assigns a unique numerical label to each category in a categorical variable.\n",
    "Application: It is typically used when the categorical variable does not have an inherent order or hierarchy among its categories.\n",
    "Example: Consider a categorical variable representing different fruits: 'Apple', 'Orange', 'Banana'. Using Label Encoding, these categories might be encoded as 0 for 'Apple', 1 for 'Orange', and 2 for 'Banana'. Here, the numerical labels are arbitrary and don't imply any specific order."
   ]
  },
  {
   "cell_type": "markdown",
   "id": "ae4339e6-86ce-4e98-8222-0f5f2c12ea81",
   "metadata": {},
   "source": [
    "Ordinal Encoding:\n",
    "\n",
    "Definition: Ordinal Encoding assigns numerical labels to categorical data with an inherent order or hierarchy among its categories.\n",
    "Application: It is employed when the categorical variable has a natural order or ranking among its categories.\n",
    "Example: Suppose a categorical variable represents education levels: 'High School', 'Bachelor's Degree', 'Master's Degree', 'Ph.D.'. Using Ordinal Encoding, these categories might be encoded as 0 for 'High School', 1 for 'Bachelor's Degree', 2 for 'Master's Degree', and 3 for 'Ph.D.'. Here, the numerical labels represent a specific order or hierarchy of education levels."
   ]
  },
  {
   "cell_type": "markdown",
   "id": "eede8878-22e5-4e62-95e1-8e7e265c9131",
   "metadata": {},
   "source": [
    "When to Choose One Over the Other:\n",
    "\n",
    "Choosing Label Encoding:\n",
    "\n",
    "Use Label Encoding when the categorical variable's categories do not have a meaningful order or hierarchy.\n",
    "For instance, when dealing with nominal categorical variables like different types of fruits, colors, or genders where there is no inherent order.\n",
    "Choosing Ordinal Encoding:\n",
    "\n",
    "Use Ordinal Encoding when there exists a natural order or hierarchy among the categories of the categorical variable.\n",
    "For example, categorical variables like education levels, rankings (e.g., low, medium, high), or economic status (e.g., low-income, middle-income, high-income) where the categories follow a specific sequence or ranking."
   ]
  },
  {
   "cell_type": "markdown",
   "id": "a4254a5c-ff87-4b2d-a2a4-8e80883f99f4",
   "metadata": {},
   "source": [
    "Q2. Explain how Target Guided Ordinal Encoding works and provide an example of when you might use it in\n",
    "a machine learning project."
   ]
  },
  {
   "cell_type": "markdown",
   "id": "6353b807-8ee8-4c32-9827-3b14e3a6d1f2",
   "metadata": {},
   "source": [
    "This encoding technique is  useful when we have a categorical variable with large no. of unique categories and we want to use this variable as a feature in our machine learning model. "
   ]
  },
  {
   "cell_type": "markdown",
   "id": "bb7fdb67-3f2b-415d-ae39-47767fa8232e",
   "metadata": {},
   "source": [
    "We replace each category in the category variable with a numerical value based on the mean or median of the target variable fot that catagory."
   ]
  },
  {
   "cell_type": "code",
   "execution_count": 16,
   "id": "b5d810b0-3e8c-408f-b4b7-6db704ce8b10",
   "metadata": {},
   "outputs": [],
   "source": [
    "import pandas as pd"
   ]
  },
  {
   "cell_type": "code",
   "execution_count": 17,
   "id": "89d926a9-8ccc-4ef2-84aa-4d75f0680263",
   "metadata": {},
   "outputs": [],
   "source": [
    "df = pd.DataFrame({'city': ['Newyork','london','paris','tokyo','Newyork','paris'],\n",
    "                  'price' : [200,150,300,250,180,320]})"
   ]
  },
  {
   "cell_type": "code",
   "execution_count": 18,
   "id": "1c29c2c4-7282-4f99-b51a-8d1fe030369b",
   "metadata": {},
   "outputs": [
    {
     "data": {
      "text/html": [
       "<div>\n",
       "<style scoped>\n",
       "    .dataframe tbody tr th:only-of-type {\n",
       "        vertical-align: middle;\n",
       "    }\n",
       "\n",
       "    .dataframe tbody tr th {\n",
       "        vertical-align: top;\n",
       "    }\n",
       "\n",
       "    .dataframe thead th {\n",
       "        text-align: right;\n",
       "    }\n",
       "</style>\n",
       "<table border=\"1\" class=\"dataframe\">\n",
       "  <thead>\n",
       "    <tr style=\"text-align: right;\">\n",
       "      <th></th>\n",
       "      <th>city</th>\n",
       "      <th>price</th>\n",
       "    </tr>\n",
       "  </thead>\n",
       "  <tbody>\n",
       "    <tr>\n",
       "      <th>0</th>\n",
       "      <td>Newyork</td>\n",
       "      <td>200</td>\n",
       "    </tr>\n",
       "    <tr>\n",
       "      <th>1</th>\n",
       "      <td>london</td>\n",
       "      <td>150</td>\n",
       "    </tr>\n",
       "    <tr>\n",
       "      <th>2</th>\n",
       "      <td>paris</td>\n",
       "      <td>300</td>\n",
       "    </tr>\n",
       "    <tr>\n",
       "      <th>3</th>\n",
       "      <td>tokyo</td>\n",
       "      <td>250</td>\n",
       "    </tr>\n",
       "    <tr>\n",
       "      <th>4</th>\n",
       "      <td>Newyork</td>\n",
       "      <td>180</td>\n",
       "    </tr>\n",
       "    <tr>\n",
       "      <th>5</th>\n",
       "      <td>paris</td>\n",
       "      <td>320</td>\n",
       "    </tr>\n",
       "  </tbody>\n",
       "</table>\n",
       "</div>"
      ],
      "text/plain": [
       "      city  price\n",
       "0  Newyork    200\n",
       "1   london    150\n",
       "2    paris    300\n",
       "3    tokyo    250\n",
       "4  Newyork    180\n",
       "5    paris    320"
      ]
     },
     "execution_count": 18,
     "metadata": {},
     "output_type": "execute_result"
    }
   ],
   "source": [
    "df"
   ]
  },
  {
   "cell_type": "code",
   "execution_count": 19,
   "id": "15201f4c-737a-43c3-876e-63cd3053abc5",
   "metadata": {},
   "outputs": [],
   "source": [
    "mean_price = df.groupby('city')['price'].mean().to_dict()"
   ]
  },
  {
   "cell_type": "code",
   "execution_count": 20,
   "id": "ba3b0608-24fa-4192-b3df-706ed8853efc",
   "metadata": {},
   "outputs": [
    {
     "data": {
      "text/plain": [
       "{'Newyork': 190.0, 'london': 150.0, 'paris': 310.0, 'tokyo': 250.0}"
      ]
     },
     "execution_count": 20,
     "metadata": {},
     "output_type": "execute_result"
    }
   ],
   "source": [
    "mean_price"
   ]
  },
  {
   "cell_type": "code",
   "execution_count": 21,
   "id": "59392d2d-8e0f-4f2a-9c34-f1da4b292c0c",
   "metadata": {},
   "outputs": [],
   "source": [
    "df['city_encoded']=df['city'].map(mean_price)"
   ]
  },
  {
   "cell_type": "code",
   "execution_count": 22,
   "id": "3049427f-3657-4b74-8488-edae8a15a1ba",
   "metadata": {},
   "outputs": [
    {
     "data": {
      "text/html": [
       "<div>\n",
       "<style scoped>\n",
       "    .dataframe tbody tr th:only-of-type {\n",
       "        vertical-align: middle;\n",
       "    }\n",
       "\n",
       "    .dataframe tbody tr th {\n",
       "        vertical-align: top;\n",
       "    }\n",
       "\n",
       "    .dataframe thead th {\n",
       "        text-align: right;\n",
       "    }\n",
       "</style>\n",
       "<table border=\"1\" class=\"dataframe\">\n",
       "  <thead>\n",
       "    <tr style=\"text-align: right;\">\n",
       "      <th></th>\n",
       "      <th>city</th>\n",
       "      <th>price</th>\n",
       "      <th>city_encoded</th>\n",
       "    </tr>\n",
       "  </thead>\n",
       "  <tbody>\n",
       "    <tr>\n",
       "      <th>0</th>\n",
       "      <td>Newyork</td>\n",
       "      <td>200</td>\n",
       "      <td>190.0</td>\n",
       "    </tr>\n",
       "    <tr>\n",
       "      <th>1</th>\n",
       "      <td>london</td>\n",
       "      <td>150</td>\n",
       "      <td>150.0</td>\n",
       "    </tr>\n",
       "    <tr>\n",
       "      <th>2</th>\n",
       "      <td>paris</td>\n",
       "      <td>300</td>\n",
       "      <td>310.0</td>\n",
       "    </tr>\n",
       "    <tr>\n",
       "      <th>3</th>\n",
       "      <td>tokyo</td>\n",
       "      <td>250</td>\n",
       "      <td>250.0</td>\n",
       "    </tr>\n",
       "    <tr>\n",
       "      <th>4</th>\n",
       "      <td>Newyork</td>\n",
       "      <td>180</td>\n",
       "      <td>190.0</td>\n",
       "    </tr>\n",
       "    <tr>\n",
       "      <th>5</th>\n",
       "      <td>paris</td>\n",
       "      <td>320</td>\n",
       "      <td>310.0</td>\n",
       "    </tr>\n",
       "  </tbody>\n",
       "</table>\n",
       "</div>"
      ],
      "text/plain": [
       "      city  price  city_encoded\n",
       "0  Newyork    200         190.0\n",
       "1   london    150         150.0\n",
       "2    paris    300         310.0\n",
       "3    tokyo    250         250.0\n",
       "4  Newyork    180         190.0\n",
       "5    paris    320         310.0"
      ]
     },
     "execution_count": 22,
     "metadata": {},
     "output_type": "execute_result"
    }
   ],
   "source": [
    "df"
   ]
  },
  {
   "cell_type": "markdown",
   "id": "836d4205-3a01-4e3d-b113-446882d124dc",
   "metadata": {},
   "source": [
    "Q3. Define covariance and explain why it is important in statistical analysis. How is covariance calculated?"
   ]
  },
  {
   "cell_type": "markdown",
   "id": "86d68a5a-6985-402a-aa77-d264a25657c1",
   "metadata": {},
   "source": [
    "Covariance is a measure of the relationship between two random variables and to what extent, they change together. Or we can say, in other words, it defines the changes between the two variables, such that change in one variable is equal to change in another variable."
   ]
  },
  {
   "cell_type": "markdown",
   "id": "d44f673e-0018-43ea-9a0b-3d8f0940f0b0",
   "metadata": {},
   "source": [
    "we can calculate by covariance method , Pearson correlation coefficient , Spearman rank correlation."
   ]
  },
  {
   "cell_type": "markdown",
   "id": "b07403af-51ed-4086-8937-ed87d70a8373",
   "metadata": {},
   "source": [
    "Q4. For a dataset with the following categorical variables: Color (red, green, blue), Size (small, medium,\n",
    "large), and Material (wood, metal, plastic), perform label encoding using Python's scikit-learn library.\n",
    "Show your code and explain the output."
   ]
  },
  {
   "cell_type": "code",
   "execution_count": 23,
   "id": "097a1535-76c4-471d-aff2-171ec816b372",
   "metadata": {},
   "outputs": [
    {
     "name": "stdout",
     "output_type": "stream",
     "text": [
      "   Color    Size Material  Color_encoded  Size_encoded  Material_encoded\n",
      "0    red   small     wood              2             2                 2\n",
      "1  green  medium    metal              1             1                 0\n",
      "2   blue   large  plastic              0             0                 1\n",
      "3    red  medium     wood              2             1                 2\n"
     ]
    }
   ],
   "source": [
    "from sklearn.preprocessing import LabelEncoder\n",
    "import pandas as pd\n",
    "\n",
    "# Sample data\n",
    "data = {\n",
    "    'Color': ['red', 'green', 'blue', 'red'],\n",
    "    'Size': ['small', 'medium', 'large', 'medium'],\n",
    "    'Material': ['wood', 'metal', 'plastic', 'wood']\n",
    "}\n",
    "\n",
    "# Creating a DataFrame\n",
    "df = pd.DataFrame(data)\n",
    "\n",
    "# Initialize LabelEncoder\n",
    "label_encoder = LabelEncoder()\n",
    "\n",
    "# Apply LabelEncoder to each categorical column\n",
    "for col in df.columns:\n",
    "    if df[col].dtype == 'object':  # Check if column is categorical\n",
    "        df[col + '_encoded'] = label_encoder.fit_transform(df[col])\n",
    "\n",
    "# Displaying the encoded DataFrame\n",
    "print(df)\n"
   ]
  },
  {
   "cell_type": "markdown",
   "id": "7e9ccff5-69c9-4be0-9c71-24c2e2cd7b7d",
   "metadata": {},
   "source": [
    "Q5. Calculate the covariance matrix for the following variables in a dataset: Age, Income, and Education\n",
    "level. Interpret the results."
   ]
  },
  {
   "cell_type": "code",
   "execution_count": 24,
   "id": "d34cbcee-bec7-43dc-a666-08a2f1f18cf9",
   "metadata": {},
   "outputs": [
    {
     "name": "stdout",
     "output_type": "stream",
     "text": [
      "Covariance Matrix:\n",
      "[[3.53e+01 3.53e+04 1.34e+01]\n",
      " [3.53e+04 3.53e+07 1.34e+04]\n",
      " [1.34e+01 1.34e+04 5.20e+00]]\n"
     ]
    }
   ],
   "source": [
    "import numpy as np\n",
    "\n",
    "# Sample data for Age, Income, and Education Level (just for illustration)\n",
    "# Replace this with your actual dataset\n",
    "age = [30, 40, 25, 35, 28]\n",
    "income = [50000, 60000, 45000, 55000, 48000]\n",
    "education_level = [12, 16, 10, 14, 12]\n",
    "\n",
    "# Create a numpy array from the data\n",
    "data = np.array([age, income, education_level])\n",
    "\n",
    "# Calculate the covariance matrix\n",
    "covariance_matrix = np.cov(data)\n",
    "\n",
    "print(\"Covariance Matrix:\")\n",
    "print(covariance_matrix)\n"
   ]
  },
  {
   "cell_type": "markdown",
   "id": "77d4fc62-0e88-4451-8571-53c8f63ea6c1",
   "metadata": {},
   "source": [
    "Q6. You are working on a machine learning project with a dataset containing several categorical\n",
    "variables, including \"Gender\" (Male/Female), \"Education Level\" (High School/Bachelor's/Master's/PhD),\n",
    "and \"Employment Status\" (Unemployed/Part-Time/Full-Time). Which encoding method would you use for\n",
    "each variable, and why?"
   ]
  },
  {
   "cell_type": "markdown",
   "id": "e8795fca-5e4f-4dbd-ad3a-a1176dddd718",
   "metadata": {},
   "source": [
    "For gender we can use binary encoding.\n",
    "For Education Level  , we use label encoding because it contains rank\n",
    "For Enployment Status , we use Nominal or OHE encoding because it does not need any rank."
   ]
  },
  {
   "cell_type": "markdown",
   "id": "f197d69d-a6b4-4892-88c9-ba1c76937b91",
   "metadata": {},
   "source": [
    "Q7. You are analyzing a dataset with two continuous variables, \"Temperature\" and \"Humidity\", and two\n",
    "categorical variables, \"Weather Condition\" (Sunny/Cloudy/Rainy) and \"Wind Direction\" (North/South/\n",
    "East/West). Calculate the covariance between each pair of variables and interpret the results."
   ]
  },
  {
   "cell_type": "code",
   "execution_count": 25,
   "id": "9b1e9c4b-3513-4cd2-a96c-bd7246faa064",
   "metadata": {},
   "outputs": [
    {
     "name": "stdout",
     "output_type": "stream",
     "text": [
      "Covariance between Temperature and Humidity:\n",
      "[[7.3  7.95]\n",
      " [7.95 9.3 ]]\n"
     ]
    }
   ],
   "source": [
    "import numpy as np\n",
    "\n",
    "# Sample data for Temperature and Humidity (just for illustration)\n",
    "temperature = [25, 30, 28, 32, 27]\n",
    "humidity = [60, 65, 62, 68, 63]\n",
    "\n",
    "# Calculate the covariance between Temperature and Humidity\n",
    "covariance_temp_humidity = np.cov(temperature, humidity)\n",
    "\n",
    "print(\"Covariance between Temperature and Humidity:\")\n",
    "print(covariance_temp_humidity)\n"
   ]
  },
  {
   "cell_type": "code",
   "execution_count": null,
   "id": "b8d9fe22-e0db-4a99-ac87-7afb72522af8",
   "metadata": {},
   "outputs": [],
   "source": []
  },
  {
   "cell_type": "code",
   "execution_count": null,
   "id": "40df60fa-d6fd-427d-9011-45feab095930",
   "metadata": {},
   "outputs": [],
   "source": []
  },
  {
   "cell_type": "code",
   "execution_count": null,
   "id": "795d0db5-8910-42bb-81e0-7cd2925af9ff",
   "metadata": {},
   "outputs": [],
   "source": []
  }
 ],
 "metadata": {
  "kernelspec": {
   "display_name": "Python 3 (ipykernel)",
   "language": "python",
   "name": "python3"
  },
  "language_info": {
   "codemirror_mode": {
    "name": "ipython",
    "version": 3
   },
   "file_extension": ".py",
   "mimetype": "text/x-python",
   "name": "python",
   "nbconvert_exporter": "python",
   "pygments_lexer": "ipython3",
   "version": "3.10.8"
  }
 },
 "nbformat": 4,
 "nbformat_minor": 5
}
